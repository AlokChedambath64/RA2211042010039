{
  "nbformat": 4,
  "nbformat_minor": 0,
  "metadata": {
    "colab": {
      "provenance": [],
      "authorship_tag": "ABX9TyOgnamMqQEHX9QoblT+GV66",
      "include_colab_link": true
    },
    "kernelspec": {
      "name": "python3",
      "display_name": "Python 3"
    },
    "language_info": {
      "name": "python"
    }
  },
  "cells": [
    {
      "cell_type": "markdown",
      "metadata": {
        "id": "view-in-github",
        "colab_type": "text"
      },
      "source": [
        "<a href=\"https://colab.research.google.com/github/AlokChedambath64/RA2211042010039/blob/main/RA2211042010039.ipynb\" target=\"_parent\"><img src=\"https://colab.research.google.com/assets/colab-badge.svg\" alt=\"Open In Colab\"/></a>"
      ]
    },
    {
      "cell_type": "code",
      "execution_count": 2,
      "metadata": {
        "id": "7cO_E-xNRSvb",
        "colab": {
          "base_uri": "https://localhost:8080/"
        },
        "outputId": "4f8f2212-9dc7-4212-fdb3-81f3c4c3a3d6"
      },
      "outputs": [
        {
          "output_type": "stream",
          "name": "stdout",
          "text": [
            "x: 5\n",
            "y: 4\n",
            "9\n",
            "a: 5\n",
            "b: 4\n",
            "54\n"
          ]
        }
      ],
      "source": [
        "x = int(input(\"x: \"))\n",
        "y = int(input(\"y: \"))\n",
        "\n",
        "print(x+y)#prints the sum of the values because x and y are converted into ints.\n",
        "\n",
        "a = input(\"a: \")\n",
        "b = input(\"b: \")\n",
        "\n",
        "print(a+b)#joins the values and prints it because it considers them as strings"
      ]
    },
    {
      "cell_type": "code",
      "source": [
        "#if the user gives a input that is not an integer, the program will fail. Hence we need to do this:\n",
        "\n",
        "try:\n",
        "  c =int(input(\"c: \"))\n",
        "except ValueError:\n",
        "  print(\"That is not an int!\")\n",
        "  exit()\n",
        "try:\n",
        "  d = int(input(\"d: \"))\n",
        "except ValueError: \n",
        "  print(\"That is not an int!\")\n",
        "  exit()\n",
        "print(c + d)"
      ],
      "metadata": {
        "colab": {
          "base_uri": "https://localhost:8080/"
        },
        "id": "eq-ivF-0oyym",
        "outputId": "65ccc259-0fa4-47f6-ce4b-606913ab33c0"
      },
      "execution_count": 1,
      "outputs": [
        {
          "output_type": "stream",
          "name": "stdout",
          "text": [
            "c: 5\n",
            "d: 8\n",
            "13\n"
          ]
        }
      ]
    },
    {
      "cell_type": "code",
      "source": [
        "i = int(input(\"i: \"))\n",
        "j = int(input(\"j: \"))\n",
        "\n",
        "k = (i / j)\n",
        "print(k) #will print the value of k with decimals\n",
        "print(f\"{k:.10f}\")\n",
        "\n",
        "k = int(i / j)\n",
        "print(k) #will print the value of k as an integer\n",
        "\n",
        "k = (i//j)\n",
        "print(k) #will also print k as an integer,"
      ],
      "metadata": {
        "colab": {
          "base_uri": "https://localhost:8080/"
        },
        "id": "zPA-bT4gq39x",
        "outputId": "c74e6976-a800-47d1-f3b7-e8260fdee7ac"
      },
      "execution_count": 18,
      "outputs": [
        {
          "output_type": "stream",
          "name": "stdout",
          "text": [
            "i: 5\n",
            "j: 9\n",
            "0.5555555555555556\n",
            "0.5555555556\n",
            "0\n",
            "0\n"
          ]
        }
      ]
    },
    {
      "cell_type": "code",
      "source": [
        "#different ways to add a variable to the print statement\n",
        "q = \"hello\"\n",
        "\n",
        "print(\"hi\",q)\n",
        "print(\"hi\" +q)\n",
        "print(\"hi \" +q)#will print the same but with the space\n",
        "print(f\"hi {q}\")\n",
        "print(f\"hi{q}\")"
      ],
      "metadata": {
        "colab": {
          "base_uri": "https://localhost:8080/"
        },
        "id": "lMon_9yiyofe",
        "outputId": "9cb0dbbb-634c-4c5e-834c-c69616df716a"
      },
      "execution_count": 11,
      "outputs": [
        {
          "output_type": "stream",
          "name": "stdout",
          "text": [
            "hi hello\n",
            "hihello\n",
            "hi hello\n",
            "hi hello\n",
            "hihello\n"
          ]
        }
      ]
    },
    {
      "cell_type": "code",
      "source": [
        "points =  int(input(\"How many points did you get: \"))\n",
        "\n",
        "if points < 2:\n",
        "  print(\"You lost fewer points than me.\")\n",
        "elif points > 2:\n",
        "  print(\"You lost more points than me.\")\n",
        "else:\n",
        "  print(\"You lost the same amount of points as me.\")"
      ],
      "metadata": {
        "colab": {
          "base_uri": "https://localhost:8080/"
        },
        "id": "ORe3yn970V3_",
        "outputId": "61b3df0e-44dd-443f-eb78-001e464d24f1"
      },
      "execution_count": 21,
      "outputs": [
        {
          "output_type": "stream",
          "name": "stdout",
          "text": [
            "How many points did you get: 1\n",
            "You lost fewer points than me.\n"
          ]
        }
      ]
    },
    {
      "cell_type": "code",
      "source": [
        "num = int(input(\"Number: \"))\n",
        "\n",
        "if (num % 2) == 0:\n",
        "  print(\"The number is even\")\n",
        "else:\n",
        "  print(\"The number is odd\")"
      ],
      "metadata": {
        "colab": {
          "base_uri": "https://localhost:8080/"
        },
        "id": "QcA1RUq-3Sk6",
        "outputId": "24f3bd1d-1f70-47a3-b88b-252c08cb77d9"
      },
      "execution_count": 25,
      "outputs": [
        {
          "output_type": "stream",
          "name": "stdout",
          "text": [
            "Number: 5\n",
            "The number is odd\n"
          ]
        }
      ]
    },
    {
      "cell_type": "code",
      "source": [
        "agree = input(\"Do you agree? \")\n",
        "\n",
        "if agree == 'Y' or agree == 'y':\n",
        "  print(\"Agreed.\")\n",
        "elif agree == 'N' or agree == 'n':\n",
        "  print(\"Not Agreed\")"
      ],
      "metadata": {
        "colab": {
          "base_uri": "https://localhost:8080/"
        },
        "id": "XXJZQ1L631Eg",
        "outputId": "4ea673ea-e940-4838-85c9-019a403dc29b"
      },
      "execution_count": 32,
      "outputs": [
        {
          "name": "stdout",
          "output_type": "stream",
          "text": [
            "Do you agree? t\n"
          ]
        }
      ]
    },
    {
      "cell_type": "code",
      "source": [
        "agree = input(\"Do you agree? \")\n",
        "\n",
        "if agree.lower() in [\"yes\", \"y\"]:\n",
        "  print(\"Agreed.\")\n",
        "elif agree.lower() in [\"no\", \"n\"]:\n",
        "  print(\"Not Agreed.\")\n"
      ],
      "metadata": {
        "colab": {
          "base_uri": "https://localhost:8080/"
        },
        "id": "cP6cNiHx6RuY",
        "outputId": "d448b87c-8576-4f69-c822-d9f60cdc39a7"
      },
      "execution_count": 37,
      "outputs": [
        {
          "output_type": "stream",
          "name": "stdout",
          "text": [
            "Do you agree? YeS\n",
            "Agreed.\n"
          ]
        }
      ]
    },
    {
      "cell_type": "code",
      "source": [
        "agree = input(\"Do you agree? \").lower()\n",
        "\n",
        "if agree in [\"yes\", \"y\"]:\n",
        "  print(\"Agreed.\")\n",
        "elif agree in [\"no\", \"n\"]:\n",
        "  print(\"Not Agreed.\")"
      ],
      "metadata": {
        "colab": {
          "base_uri": "https://localhost:8080/"
        },
        "id": "Lc4FRQVIbMdU",
        "outputId": "3e3a0439-8579-460c-aaa0-8df7dbf740b3"
      },
      "execution_count": 38,
      "outputs": [
        {
          "output_type": "stream",
          "name": "stdout",
          "text": [
            "Do you agree? Yes\n",
            "Agreed.\n"
          ]
        }
      ]
    },
    {
      "cell_type": "code",
      "source": [
        "for i in range(3):\n",
        "  print(\"hello\")"
      ],
      "metadata": {
        "colab": {
          "base_uri": "https://localhost:8080/"
        },
        "id": "TpdlOSACbeXU",
        "outputId": "90cb6fd3-adea-4b8d-d1b3-a75f78af86c0"
      },
      "execution_count": 39,
      "outputs": [
        {
          "output_type": "stream",
          "name": "stdout",
          "text": [
            "hello\n",
            "hello\n",
            "hello\n"
          ]
        }
      ]
    },
    {
      "cell_type": "code",
      "source": [
        "def hello():\n",
        "  print(\"hello\")\n",
        "\n",
        "for i in range(3):\n",
        "  hello()"
      ],
      "metadata": {
        "colab": {
          "base_uri": "https://localhost:8080/"
        },
        "id": "NuAvHzE9cRoW",
        "outputId": "0ca08490-0af0-4ae3-8bea-87950ffcb335"
      },
      "execution_count": 40,
      "outputs": [
        {
          "output_type": "stream",
          "name": "stdout",
          "text": [
            "hello\n",
            "hello\n",
            "hello\n"
          ]
        }
      ]
    },
    {
      "cell_type": "code",
      "source": [
        "def main():\n",
        "    hello(n)\n",
        "\n",
        "def hello(n):\n",
        "  for i in range(n):\n",
        "    print(\"hello\")\n",
        "#main function needs to be called. It needs to placed in the bottom too as the interpretor needs to look through evrything else.\n",
        "main()"
      ],
      "metadata": {
        "colab": {
          "base_uri": "https://localhost:8080/"
        },
        "id": "1619W22ucq0m",
        "outputId": "197a0ad2-6d47-489c-831b-f90e53891030"
      },
      "execution_count": 41,
      "outputs": [
        {
          "output_type": "stream",
          "name": "stdout",
          "text": [
            "hello\n",
            "hello\n",
            "hello\n"
          ]
        }
      ]
    },
    {
      "cell_type": "code",
      "source": [
        "for i in range(3):\n",
        "  print(\"#\")"
      ],
      "metadata": {
        "colab": {
          "base_uri": "https://localhost:8080/"
        },
        "id": "Pyc_dRx2eRV3",
        "outputId": "fa7fd99a-2911-4bb1-9e4e-e1bb83dd653a"
      },
      "execution_count": 42,
      "outputs": [
        {
          "output_type": "stream",
          "name": "stdout",
          "text": [
            "#\n",
            "#\n",
            "#\n"
          ]
        }
      ]
    },
    {
      "cell_type": "code",
      "source": [
        "n = int(input(\"N: \"))\n",
        "\n",
        "for i in range(n):\n",
        "  print(\"#\")"
      ],
      "metadata": {
        "colab": {
          "base_uri": "https://localhost:8080/"
        },
        "id": "Qo8Bjk7uf8Tc",
        "outputId": "e25ff63f-68ba-40cf-9d9b-6e69a5c54326"
      },
      "execution_count": 43,
      "outputs": [
        {
          "output_type": "stream",
          "name": "stdout",
          "text": [
            "N: 3\n",
            "#\n",
            "#\n",
            "#\n"
          ]
        }
      ]
    },
    {
      "cell_type": "code",
      "source": [
        "while True:\n",
        "  n = int(input(\"N: \"))\n",
        "  if n > 0:\n",
        "    break\n"
      ],
      "metadata": {
        "id": "nL8TWPDLgJC2"
      },
      "execution_count": 47,
      "outputs": []
    },
    {
      "cell_type": "code",
      "source": [
        "def main():\n",
        "  height = height1()\n",
        "  for i  in range(height):\n",
        "    print(\"#\")\n",
        "  \n",
        "def height1():\n",
        "  while True:\n",
        "    p = int(input(\"Height: \"))\n",
        "    if p > 0:\n",
        "        break\n",
        "  return p\n",
        "main()"
      ],
      "metadata": {
        "colab": {
          "base_uri": "https://localhost:8080/"
        },
        "id": "QAdcMTEqhsmG",
        "outputId": "cb9f2a65-841f-49e0-d174-af9afa9e9423"
      },
      "execution_count": 7,
      "outputs": [
        {
          "output_type": "stream",
          "name": "stdout",
          "text": [
            "Height: 5\n",
            "#\n",
            "#\n",
            "#\n",
            "#\n",
            "#\n"
          ]
        }
      ]
    },
    {
      "cell_type": "code",
      "source": [
        "def main():\n",
        "  height = height1()\n",
        "  for i  in range(height):\n",
        "    print(\"#\")\n",
        "  \n",
        "def height1():\n",
        "  while True:\n",
        "    try:\n",
        "      p = int(input(\"Height: \"))\n",
        "      if p > 0:\n",
        "          break\n",
        "    except ValueError:\n",
        "      print(\"That's not an integer.\")\n",
        "  return p\n",
        "main()"
      ],
      "metadata": {
        "colab": {
          "base_uri": "https://localhost:8080/"
        },
        "id": "f0eYqfcQi6D-",
        "outputId": "d0184fe4-977f-4e0f-9fd2-e5b9275b59db"
      },
      "execution_count": 8,
      "outputs": [
        {
          "output_type": "stream",
          "name": "stdout",
          "text": [
            "Height: cat\n",
            "That's not an integer.\n",
            "Height: 7\n",
            "#\n",
            "#\n",
            "#\n",
            "#\n",
            "#\n",
            "#\n",
            "#\n"
          ]
        }
      ]
    },
    {
      "cell_type": "code",
      "source": [
        "#to print in the same line.\n",
        "for i in range(4):\n",
        "  print(\"?\",end=\"\")"
      ],
      "metadata": {
        "colab": {
          "base_uri": "https://localhost:8080/"
        },
        "id": "ttE9Uy3epAy0",
        "outputId": "0d5f137d-ddf5-44c4-c5d6-3abbc4d95454"
      },
      "execution_count": 9,
      "outputs": [
        {
          "output_type": "stream",
          "name": "stdout",
          "text": [
            "????"
          ]
        }
      ]
    },
    {
      "cell_type": "code",
      "source": [
        "print(\"#\"*4)"
      ],
      "metadata": {
        "colab": {
          "base_uri": "https://localhost:8080/"
        },
        "id": "7_p9bWHEvqFL",
        "outputId": "4eac2dc2-58e8-434d-df70-ed563f547c15"
      },
      "execution_count": 10,
      "outputs": [
        {
          "output_type": "stream",
          "name": "stdout",
          "text": [
            "####\n"
          ]
        }
      ]
    },
    {
      "cell_type": "code",
      "source": [
        "for i in range(3):\n",
        "    print(\"#\"*4)\n"
      ],
      "metadata": {
        "colab": {
          "base_uri": "https://localhost:8080/"
        },
        "id": "3PHlcuaAvtQG",
        "outputId": "dc946e9a-55bd-4f29-d07e-5dd4b91bf202"
      },
      "execution_count": 15,
      "outputs": [
        {
          "output_type": "stream",
          "name": "stdout",
          "text": [
            "####\n",
            "####\n",
            "####\n"
          ]
        }
      ]
    },
    {
      "cell_type": "code",
      "source": [
        "scores =[72, 73, 33]\n",
        "\n",
        "average = sum(scores)/ len(scores)\n",
        "\n",
        "print(\"Avereage\", average)"
      ],
      "metadata": {
        "colab": {
          "base_uri": "https://localhost:8080/"
        },
        "id": "2wNra9qZxqqa",
        "outputId": "f9aea9eb-7bdf-4fb7-ad6a-34bc617c139c"
      },
      "execution_count": 17,
      "outputs": [
        {
          "output_type": "stream",
          "name": "stdout",
          "text": [
            "Avereage 59.333333333333336\n"
          ]
        }
      ]
    },
    {
      "cell_type": "code",
      "source": [
        "# you can make lists which are empty unlike arrays\n",
        "scores = []\n",
        "\n",
        "for i  in range(3):\n",
        "  score = int(input(\"Score: \"))\n",
        "  scores.append(score)\n",
        "\n",
        "average = sum(scores) / len(scores)\n",
        "print(\"Average\", average)"
      ],
      "metadata": {
        "colab": {
          "base_uri": "https://localhost:8080/"
        },
        "id": "Ul_xChLIx6Rv",
        "outputId": "fed5a7ad-49e2-4f64-d44f-5042a3eb1b46"
      },
      "execution_count": 20,
      "outputs": [
        {
          "output_type": "stream",
          "name": "stdout",
          "text": [
            "Score: 6\n",
            "Score: 7\n",
            "Score: 8\n",
            "Average 7.0\n"
          ]
        }
      ]
    },
    {
      "cell_type": "code",
      "source": [
        "# you can make lists which are empty unlike arrays\n",
        "scores = []\n",
        "\n",
        "for i  in range(3):\n",
        "  score = int(input(\"Score: \"))\n",
        "  scores.append(score)\n",
        "\n",
        "average = sum(scores) / len(scores)\n",
        "print(\"Average\", average)"
      ],
      "metadata": {
        "id": "51hxBifZyqxU"
      },
      "execution_count": null,
      "outputs": []
    },
    {
      "cell_type": "code",
      "source": [
        "before = input(\"Before: \")\n",
        "print(\"After: \", end = \"\")\n",
        "for c in before:\n",
        "  print (c.upper(), end=\"\")\n",
        "print()"
      ],
      "metadata": {
        "colab": {
          "base_uri": "https://localhost:8080/"
        },
        "id": "BK8IQNOTy6TL",
        "outputId": "86001299-80a1-4be9-9869-1aa1df4d8f8f"
      },
      "execution_count": 21,
      "outputs": [
        {
          "output_type": "stream",
          "name": "stdout",
          "text": [
            "Before: hello\n",
            "After: HELLO\n"
          ]
        }
      ]
    },
    {
      "cell_type": "code",
      "source": [
        "before = input(\"Before: \")\n",
        "print(\"After: \", end = \"\")\n",
        "after = before.upper()\n",
        "print(after)\n",
        "print()"
      ],
      "metadata": {
        "colab": {
          "base_uri": "https://localhost:8080/"
        },
        "id": "6RdLfTtmz89j",
        "outputId": "feebd9df-e32b-4884-9989-83e3a116f901"
      },
      "execution_count": 22,
      "outputs": [
        {
          "output_type": "stream",
          "name": "stdout",
          "text": [
            "Before: hello\n",
            "After: HELLO\n",
            "\n"
          ]
        }
      ]
    },
    {
      "cell_type": "code",
      "source": [
        "people = dict()"
      ],
      "metadata": {
        "id": "pdqI62yH6cp9"
      },
      "execution_count": null,
      "outputs": []
    },
    {
      "cell_type": "code",
      "source": [
        "people = {\n",
        "    \"alok\" : \"+32524657\"\n",
        "}\n",
        "name = input(\"Name: \")\n",
        "if name in people:\n",
        "  print(\"Number:\",{people[name]})"
      ],
      "metadata": {
        "colab": {
          "base_uri": "https://localhost:8080/"
        },
        "id": "RaJCESML6ii3",
        "outputId": "06ffa727-ac1b-4492-83d1-140f3ae931f7"
      },
      "execution_count": 23,
      "outputs": [
        {
          "output_type": "stream",
          "name": "stdout",
          "text": [
            "Name: alok\n",
            "Number: {'+32524657'}\n"
          ]
        }
      ]
    },
    {
      "cell_type": "code",
      "source": [
        "import csv \n",
        "\n",
        "file = open(\"phonebook.csv\", \"a\")\n",
        "\n",
        "name = input(\"Name: \")\n",
        "number = input(\"Number: \")\n",
        "\n",
        "#variable called write\n",
        "writer = csv.writer(file)\n",
        "writer.writerow([name, number])\n",
        "\n",
        "file.close()"
      ],
      "metadata": {
        "colab": {
          "base_uri": "https://localhost:8080/"
        },
        "id": "3I3jn9Qp8xjK",
        "outputId": "7a85160c-ca38-41f5-97bc-1f3b0d2e5ffa"
      },
      "execution_count": 67,
      "outputs": [
        {
          "name": "stdout",
          "output_type": "stream",
          "text": [
            "Name: alok\n",
            "Number: 8590250668\n"
          ]
        }
      ]
    },
    {
      "cell_type": "code",
      "source": [
        "import csv\n",
        "\n",
        "name = input(\"Name: \")\n",
        "number = input(\"Number: \")\n",
        "\n",
        "with open(\"phonebook.csv\", \"a\") as file:f\n",
        "  writer = csv.writer(file)\n",
        "  writer.writerow([name, number])"
      ],
      "metadata": {
        "id": "ffE_aFzQ-9ms"
      },
      "execution_count": null,
      "outputs": []
    },
    {
      "cell_type": "code",
      "source": [
        "a = 7\n",
        "b = 9.8\n",
        "c = \"hello\"\n",
        "d = 2 + 7j\n",
        "\n",
        "print(type(a))\n",
        "print(type(b))\n",
        "print(type(c))\n",
        "print(type(d))"
      ],
      "metadata": {
        "colab": {
          "base_uri": "https://localhost:8080/"
        },
        "id": "WJxLcpnkxqzd",
        "outputId": "51fea7d5-125a-4300-f1cf-9d36834965d3"
      },
      "execution_count": 2,
      "outputs": [
        {
          "output_type": "stream",
          "name": "stdout",
          "text": [
            "<class 'int'>\n",
            "<class 'float'>\n",
            "<class 'str'>\n",
            "<class 'complex'>\n"
          ]
        }
      ]
    },
    {
      "cell_type": "code",
      "source": [
        "a = 7\n",
        "b = 9.8\n",
        "c = \"hello\" o  \n",
        "d = 2 + 7j\n",
        "\n",
        "#these values need to be seperated by commas\n",
        "print(type(a), type(b), type(c), type(d))"
      ],
      "metadata": {
        "colab": {
          "base_uri": "https://localhost:8080/"
        },
        "id": "c_wetpQJyGc3",
        "outputId": "5192b539-3345-4eb9-8058-c630c0634e6b"
      },
      "execution_count": 5,
      "outputs": [
        {
          "output_type": "stream",
          "name": "stdout",
          "text": [
            "<class 'int'> <class 'float'> <class 'str'> <class 'complex'>\n"
          ]
        }
      ]
    },
    {
      "cell_type": "code",
      "source": [
        "print(\"Hi\",\"Hello\",\"Python\")"
      ],
      "metadata": {
        "colab": {
          "base_uri": "https://localhost:8080/"
        },
        "id": "txETtMWe2HnZ",
        "outputId": "a43128a8-52c3-42e1-8450-d958b1ea9341"
      },
      "execution_count": 7,
      "outputs": [
        {
          "output_type": "stream",
          "name": "stdout",
          "text": [
            "Hi Hello Python\n"
          ]
        }
      ]
    },
    {
      "cell_type": "code",
      "source": [
        "#Arthemetic Operators In python\n",
        "a = 7\n",
        "b = 5\n",
        "\n",
        "print(a+b, a-b, a/b, a**b, a*b, a%b, a//b)"
      ],
      "metadata": {
        "colab": {
          "base_uri": "https://localhost:8080/"
        },
        "id": "rxF4GSUT4Uo0",
        "outputId": "5dd68423-bad1-44f2-fef4-86e215e6c7cb"
      },
      "execution_count": 8,
      "outputs": [
        {
          "output_type": "stream",
          "name": "stdout",
          "text": [
            "12 2 1.4 16807 35 2 1\n"
          ]
        }
      ]
    },
    {
      "cell_type": "code",
      "source": [
        "#program to find the ordial value of a user input\n",
        "\n",
        "a = \"a\"\n",
        "print(ord(a))"
      ],
      "metadata": {
        "id": "T51oEEwQ5lE4"
      },
      "execution_count": null,
      "outputs": []
    },
    {
      "cell_type": "code",
      "source": [
        "#program to understand the use of comparision operators using conditonal parameters\n",
        "a = input(\"a: \")\n",
        "b = input(\"b: \")\n",
        "\n",
        "if a >b:\n",
        "  print(\"a is greater than b\")\n",
        "else:\n",
        "  print(\"b is greater than a\")"
      ],
      "metadata": {
        "colab": {
          "base_uri": "https://localhost:8080/"
        },
        "id": "zsO5nXcH50dQ",
        "outputId": "b35cb380-01c5-4183-d598-8fe1191dc8e6"
      },
      "execution_count": 20,
      "outputs": [
        {
          "output_type": "stream",
          "name": "stdout",
          "text": [
            "a: m\n",
            "b: n\n",
            "b is greater than a\n"
          ]
        }
      ]
    },
    {
      "cell_type": "code",
      "source": [
        "distinction = 75\n",
        "\n",
        "marks = int(input(\"Marks Obtained: \"))\n",
        "\n",
        "if (distinction > marks):\n",
        "  print(\"Not distinction\")\n",
        "else:\n",
        "  print(\"Distinction\")"
      ],
      "metadata": {
        "colab": {
          "base_uri": "https://localhost:8080/"
        },
        "id": "FC-wN6BAAuxZ",
        "outputId": "ec2772f0-3298-4470-8768-dcce2f8bf3b7"
      },
      "execution_count": 22,
      "outputs": [
        {
          "output_type": "stream",
          "name": "stdout",
          "text": [
            "Marks Obtained: 55\n",
            "Not distinction\n"
          ]
        }
      ]
    },
    {
      "cell_type": "code",
      "source": [
        "a = input(\"Character: \")\n",
        "#the function is digit returns the true(1) or false(0) \n",
        "if a.isdigit()==1:\n",
        "  print(\"digit\")\n",
        "elif a.isalpha()==1:\n",
        "  print(\"alphabet\")\n",
        "else:\n",
        "  print(\"neither alphabet not digit\")"
      ],
      "metadata": {
        "colab": {
          "base_uri": "https://localhost:8080/"
        },
        "id": "Fr8uF_8cBapx",
        "outputId": "26d07eaa-88f2-456d-c9fd-27470b5b1a31"
      },
      "execution_count": 29,
      "outputs": [
        {
          "output_type": "stream",
          "name": "stdout",
          "text": [
            "Character: @\n",
            "neither alphabet not digit\n"
          ]
        }
      ]
    },
    {
      "cell_type": "code",
      "source": [
        "#find sum of all even numbers up to num using while construct\n",
        "num = int(input(\"Number: \"))\n",
        "\n",
        "count = 2\n",
        "sum = 0\n",
        "while (count <= num):\n",
        "  sum = sum + count\n",
        "  count += (2)\n",
        " \n",
        "\n",
        "print(f\"Sum:{sum}\")"
      ],
      "metadata": {
        "colab": {
          "base_uri": "https://localhost:8080/"
        },
        "id": "mpBR2aUzC1RM",
        "outputId": "4de81f53-6c0a-4d3a-ede2-72f92e60200a"
      },
      "execution_count": 35,
      "outputs": [
        {
          "output_type": "stream",
          "name": "stdout",
          "text": [
            "Number: 12\n",
            "Sum:42\n"
          ]
        }
      ]
    },
    {
      "cell_type": "code",
      "source": [
        "num = int(input(\"Number: \"))\n",
        "\n",
        "num1 = num\n",
        "\n",
        "num = abs(num)\n",
        "\n",
        "sum = num*(num+1)/2\n",
        "\n",
        "if num1 >= 0:\n",
        "  print(f\"The sum is {sum}\")\n",
        "else:\n",
        "  print(f\"The sum is {-sum}\")"
      ],
      "metadata": {
        "colab": {
          "base_uri": "https://localhost:8080/"
        },
        "id": "WWf5gNmWIFFP",
        "outputId": "8bd516c8-84e3-44ba-e192-0ed7036e614f"
      },
      "execution_count": 40,
      "outputs": [
        {
          "output_type": "stream",
          "name": "stdout",
          "text": [
            "Number: -660\n",
            "The sum is -218130.0\n"
          ]
        }
      ]
    },
    {
      "cell_type": "code",
      "source": [
        "items = \"Python\"\n",
        "n = 0\n",
        "for index in items:\n",
        "  print(\"(\",n,\",\", index,\")\")\n",
        "  n += 1"
      ],
      "metadata": {
        "colab": {
          "base_uri": "https://localhost:8080/"
        },
        "id": "ZbRInS41KO4V",
        "outputId": "f1edb5de-208b-4f9a-d6cf-3e1c98423587"
      },
      "execution_count": 52,
      "outputs": [
        {
          "output_type": "stream",
          "name": "stdout",
          "text": [
            "( 0 , P )\n",
            "( 1 , y )\n",
            "( 2 , t )\n",
            "( 3 , h )\n",
            "( 4 , o )\n",
            "( 5 , n )\n"
          ]
        }
      ]
    },
    {
      "cell_type": "code",
      "source": [
        "for i in range(6):\n",
        "  print(i)"
      ],
      "metadata": {
        "colab": {
          "base_uri": "https://localhost:8080/"
        },
        "id": "6rSTJtptQlQ7",
        "outputId": "f52d0777-8d07-400e-843c-6e191f4df9be"
      },
      "execution_count": 55,
      "outputs": [
        {
          "output_type": "stream",
          "name": "stdout",
          "text": [
            "0\n",
            "1\n",
            "2\n",
            "3\n",
            "4\n",
            "5\n"
          ]
        }
      ]
    },
    {
      "cell_type": "code",
      "source": [
        "for i in range(1,10):\n",
        "  print(i)\n",
        "else:\n",
        "  print(\"No Break\")"
      ],
      "metadata": {
        "colab": {
          "base_uri": "https://localhost:8080/"
        },
        "id": "eYtIbkXdRxbq",
        "outputId": "0e999c90-79fd-4635-fa3c-727741f8c74d"
      },
      "execution_count": 57,
      "outputs": [
        {
          "output_type": "stream",
          "name": "stdout",
          "text": [
            "1\n",
            "2\n",
            "3\n",
            "4\n",
            "5\n",
            "6\n",
            "7\n",
            "8\n",
            "9\n",
            "No Break\n"
          ]
        }
      ]
    },
    {
      "cell_type": "code",
      "source": [
        "thislist = [\"apple\", \"banana\", \"cherry\"]\n",
        "print(thislist)\n",
        "print(len(thislist))"
      ],
      "metadata": {
        "colab": {
          "base_uri": "https://localhost:8080/"
        },
        "id": "W8boYwWmSlZU",
        "outputId": "e3e36369-64f3-4a1e-b8b5-f26893a668fa"
      },
      "execution_count": 60,
      "outputs": [
        {
          "output_type": "stream",
          "name": "stdout",
          "text": [
            "['apple', 'banana', 'cherry']\n",
            "3\n"
          ]
        }
      ]
    },
    {
      "cell_type": "code",
      "source": [
        "list1 = [\"abc\", 34, True, 40, \"male\"]\n",
        "print(type(list1))"
      ],
      "metadata": {
        "colab": {
          "base_uri": "https://localhost:8080/"
        },
        "id": "dQ_z8enlTjWQ",
        "outputId": "2fcb8641-8899-47bd-a454-ff4771ecd105"
      },
      "execution_count": 64,
      "outputs": [
        {
          "output_type": "stream",
          "name": "stdout",
          "text": [
            "<class 'list'>\n"
          ]
        }
      ]
    },
    {
      "cell_type": "code",
      "source": [
        "a = [2,3,4,5,6]\n",
        "print(a[2])\n",
        "#slicing. Prints from the lower limit to upper limit - 1.\n",
        "print(a[0:3])"
      ],
      "metadata": {
        "colab": {
          "base_uri": "https://localhost:8080/"
        },
        "id": "zFzPvyiIytpI",
        "outputId": "fec88495-64c9-40b9-83b0-d1615794f08f"
      },
      "execution_count": 2,
      "outputs": [
        {
          "output_type": "stream",
          "name": "stdout",
          "text": [
            "4\n",
            "[2, 3, 4]\n"
          ]
        }
      ]
    },
    {
      "cell_type": "code",
      "source": [
        "a = [1,2,3,4,5,6,7,8]\n",
        "b = [20, 30]\n",
        "print (a + b)\n",
        "a[2] = 33\n",
        "print(a + b)\n",
        "print(b + a)"
      ],
      "metadata": {
        "colab": {
          "base_uri": "https://localhost:8080/"
        },
        "id": "KKDcxokJy_s2",
        "outputId": "491e8595-de1b-4767-e3da-7cb782b678c3"
      },
      "execution_count": 5,
      "outputs": [
        {
          "output_type": "stream",
          "name": "stdout",
          "text": [
            "[1, 2, 3, 4, 5, 6, 7, 8, 20, 30]\n",
            "[1, 2, 33, 4, 5, 6, 7, 8, 20, 30]\n",
            "[20, 30, 1, 2, 33, 4, 5, 6, 7, 8]\n"
          ]
        }
      ]
    },
    {
      "cell_type": "code",
      "source": [
        "a = [2, 3, 4, 5, 6]\n",
        "\n",
        "if 5 in a:\n",
        "  print(\"True\")\n",
        "if 2 in a:\n",
        "  print(\"False\")"
      ],
      "metadata": {
        "colab": {
          "base_uri": "https://localhost:8080/"
        },
        "id": "s9s8pjq0zjsu",
        "outputId": "ef220e46-8407-470d-c2ed-7d225e68b7e2"
      },
      "execution_count": 7,
      "outputs": [
        {
          "output_type": "stream",
          "name": "stdout",
          "text": [
            "True\n",
            "False\n"
          ]
        }
      ]
    },
    {
      "cell_type": "code",
      "source": [
        "a = [1,2,3]\n",
        "print(a*0)\n",
        "print(a*3)"
      ],
      "metadata": {
        "colab": {
          "base_uri": "https://localhost:8080/"
        },
        "id": "TmdQXzfk1JSd",
        "outputId": "1b91eaae-a17e-4839-f395-0425a611c410"
      },
      "execution_count": 8,
      "outputs": [
        {
          "output_type": "stream",
          "name": "stdout",
          "text": [
            "[]\n",
            "[1, 2, 3, 1, 2, 3, 1, 2, 3]\n"
          ]
        }
      ]
    },
    {
      "cell_type": "code",
      "source": [
        "a = [9,8,7,6,5,4]\n",
        "a[0:3]#prints values from index 0 to 2\n",
        "a[:3] #both are the same things\n",
        "a[1:]#prints calues from index 1 onwards\n",
        "a[:]#prints the entire list\n",
        "a[2:2]#prints an empty slice\n",
        "a[0:6:2]#prints the list values with step size 2\n",
        "a[::-1]#prints the list in reverse order\n",
        "a[-3:]#prints the last 3 items in the list\n",
        "a[:-3]#prints all except the last 3 items in list"
      ],
      "metadata": {
        "colab": {
          "base_uri": "https://localhost:8080/"
        },
        "id": "FXLfxOSd1voY",
        "outputId": "85253eb5-a223-49e1-db5c-8cb81163bcec"
      },
      "execution_count": 17,
      "outputs": [
        {
          "output_type": "execute_result",
          "data": {
            "text/plain": [
              "[9, 8, 7]"
            ]
          },
          "metadata": {},
          "execution_count": 17
        }
      ]
    },
    {
      "cell_type": "code",
      "source": [
        "a = [1,2,3,4,5]\n",
        "b = [3,5,2,5,1,5,2]\n",
        "print(all(a))#returns true if all the items have a true value\n",
        "print(any(a))#returns true if even one itme in the list has a true value\n",
        "print(list(enumerate(a)))#returns an enumerate object consisting of the index and value of all items of the list as a tuple pair\n",
        "print(len(a))#calculates the number of elements in the list\n",
        "print(list(a))#converts a tuple/string/set/dictionary to a list\n",
        "print(max(a))#returns the item with the max value in the list\n",
        "print(min(a))#retruns the item with the lowest value from the list\n",
        "print(b)\n"
      ],
      "metadata": {
        "colab": {
          "base_uri": "https://localhost:8080/"
        },
        "id": "Fe668-LF3Ih7",
        "outputId": "e3e9f2e1-cf67-4f99-9504-11b734c75cf9"
      },
      "execution_count": 47,
      "outputs": [
        {
          "output_type": "stream",
          "name": "stdout",
          "text": [
            "True\n",
            "True\n",
            "[(0, 1), (1, 2), (2, 3), (3, 4), (4, 5)]\n",
            "5\n",
            "[1, 2, 3, 4, 5]\n",
            "5\n",
            "1\n",
            "[3, 5, 2, 5, 1, 5, 2]\n"
          ]
        }
      ]
    },
    {
      "cell_type": "code",
      "source": [
        "a = [1,2,3]\n",
        "b = (1,6,a)\n",
        "print(b)\n",
        "a[2] = 4\n",
        "b[2][2] = 1\n",
        "print(b)"
      ],
      "metadata": {
        "colab": {
          "base_uri": "https://localhost:8080/"
        },
        "id": "8ik6fJfE9mRx",
        "outputId": "aa665d0c-44fc-40e3-cc7f-b860d75ca236"
      },
      "execution_count": 35,
      "outputs": [
        {
          "output_type": "stream",
          "name": "stdout",
          "text": [
            "(1, 6, [1, 2, 3])\n",
            "(1, 6, [1, 2, 1])\n"
          ]
        }
      ]
    },
    {
      "cell_type": "code",
      "source": [
        "a = (20,40,560)\n",
        "b = (1,)#when a tuple with a single element has to defined it needs to end with a comma\n",
        "\n",
        "print(a,b)\n",
        "print(b,a)\n",
        "print(a[0])#to call a value using its index number.\n",
        "print(a[1:3])#slicing works the same\n"
      ],
      "metadata": {
        "colab": {
          "base_uri": "https://localhost:8080/"
        },
        "id": "IURfSoLB-5xz",
        "outputId": "0b1d15cd-6b55-4d77-ff66-144bcb9cd4f1"
      },
      "execution_count": 42,
      "outputs": [
        {
          "output_type": "stream",
          "name": "stdout",
          "text": [
            "(20, 40, 560) (1,)\n",
            "(1,) (20, 40, 560)\n",
            "20\n",
            "(40, 560)\n"
          ]
        }
      ]
    },
    {
      "cell_type": "code",
      "source": [
        "a = (1,2,3,4,5,6,7,8)\n",
        "if 5 in a:\n",
        "  print(\"Found\")"
      ],
      "metadata": {
        "colab": {
          "base_uri": "https://localhost:8080/"
        },
        "id": "SXbUi60e_NCt",
        "outputId": "58bf7e14-fe66-477d-b015-f3b60af3e58d"
      },
      "execution_count": 43,
      "outputs": [
        {
          "output_type": "stream",
          "name": "stdout",
          "text": [
            "Found\n"
          ]
        }
      ]
    },
    {
      "cell_type": "code",
      "source": [
        "numset = {1,2,3,4,5,6,}\n",
        "print(numset)\n",
        "\n",
        "numset2 = set([1,2,3,5,5,])\n",
        "print(numset2)\n",
        "\n",
        "empty = set()\n",
        "print(type(empty))"
      ],
      "metadata": {
        "colab": {
          "base_uri": "https://localhost:8080/"
        },
        "id": "nwtaEfVg_-vM",
        "outputId": "12870b09-3377-4c34-edf0-0f81ab4d5460"
      },
      "execution_count": 46,
      "outputs": [
        {
          "output_type": "stream",
          "name": "stdout",
          "text": [
            "{1, 2, 3, 4, 5, 6}\n",
            "{1, 2, 3, 5}\n",
            "<class 'set'>\n"
          ]
        }
      ]
    },
    {
      "cell_type": "code",
      "source": [
        "a = {1,2,3,4,5}\n",
        "\n",
        "a.remove(3)\n",
        "a.discard(4)\n",
        "\n",
        "print(a)\n"
      ],
      "metadata": {
        "colab": {
          "base_uri": "https://localhost:8080/"
        },
        "id": "fZS9ebfRLE1_",
        "outputId": "a69f4e0a-a414-43df-81da-74ddc6458542"
      },
      "execution_count": 54,
      "outputs": [
        {
          "output_type": "stream",
          "name": "stdout",
          "text": [
            "{1, 2, 5}\n"
          ]
        }
      ]
    },
    {
      "cell_type": "code",
      "source": [
        "thisdict = {\n",
        "    \"brand\" : \"Ford\",\n",
        "    \"model\" : \"Mustang\",\n",
        "    \"year\"  : 1964\n",
        "}\n",
        "x = thisdict.get(\"model\")\n",
        "print(x)\n",
        "y = thisdict.keys()\n",
        "print(y)"
      ],
      "metadata": {
        "colab": {
          "base_uri": "https://localhost:8080/"
        },
        "id": "1tdtuLOKXU19",
        "outputId": "aaa36a40-3401-4b3b-82e5-1eae43158b12"
      },
      "execution_count": 62,
      "outputs": [
        {
          "output_type": "stream",
          "name": "stdout",
          "text": [
            "Mustang\n",
            "dict_keys(['brand', 'model', 'year'])\n"
          ]
        }
      ]
    },
    {
      "cell_type": "code",
      "source": [
        "car = {\n",
        "    \"brand\": \"Ford\",\n",
        "    \"model\": \"Mustang\",\n",
        "    \"year\": 1964\n",
        "}\n",
        "\n",
        "x = car.keys()\n",
        "\n",
        "print(x)\n",
        "\n",
        "car[\"color\"] = \"white\"\n",
        "\n",
        "print(x)"
      ],
      "metadata": {
        "colab": {
          "base_uri": "https://localhost:8080/"
        },
        "id": "Qk5vuubLYS8u",
        "outputId": "4ea9dc81-f270-4142-8422-84c8673a18ea"
      },
      "execution_count": 64,
      "outputs": [
        {
          "output_type": "stream",
          "name": "stdout",
          "text": [
            "dict_keys(['brand', 'model', 'year'])\n",
            "dict_keys(['brand', 'model', 'year', 'color'])\n"
          ]
        }
      ]
    }
  ]
}