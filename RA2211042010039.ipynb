{
  "nbformat": 4,
  "nbformat_minor": 0,
  "metadata": {
    "colab": {
      "provenance": [],
      "authorship_tag": "ABX9TyNzn+boEOEpLZSiJxhHgZSQ",
      "include_colab_link": true
    },
    "kernelspec": {
      "name": "python3",
      "display_name": "Python 3"
    },
    "language_info": {
      "name": "python"
    }
  },
  "cells": [
    {
      "cell_type": "markdown",
      "metadata": {
        "id": "view-in-github",
        "colab_type": "text"
      },
      "source": [
        "<a href=\"https://colab.research.google.com/github/AlokChedambath64/RA2211042010039/blob/main/RA2211042010039.ipynb\" target=\"_parent\"><img src=\"https://colab.research.google.com/assets/colab-badge.svg\" alt=\"Open In Colab\"/></a>"
      ]
    },
    {
      "cell_type": "code",
      "execution_count": 2,
      "metadata": {
        "id": "7cO_E-xNRSvb",
        "colab": {
          "base_uri": "https://localhost:8080/"
        },
        "outputId": "4f8f2212-9dc7-4212-fdb3-81f3c4c3a3d6"
      },
      "outputs": [
        {
          "output_type": "stream",
          "name": "stdout",
          "text": [
            "x: 5\n",
            "y: 4\n",
            "9\n",
            "a: 5\n",
            "b: 4\n",
            "54\n"
          ]
        }
      ],
      "source": [
        "x = int(input(\"x: \"))\n",
        "y = int(input(\"y: \"))\n",
        "\n",
        "print(x+y)#prints the sum of the values because x and y are converted into ints.\n",
        "\n",
        "a = input(\"a: \")\n",
        "b = input(\"b: \")\n",
        "\n",
        "print(a+b)#joins the values and prints it because it considers them as strings"
      ]
    },
    {
      "cell_type": "code",
      "source": [
        "#if the user gives a input that is not an integer, the program will fail. Hence we need to do this:\n",
        "\n",
        "try:\n",
        "  c =int(input(\"c: \"))\n",
        "except ValueError:\n",
        "  print(\"That is not an int!\")\n",
        "  exit()\n",
        "try:\n",
        "  d = int(input(\"d: \"))\n",
        "except ValueError: \n",
        "  print(\"That is not an int!\")\n",
        "  exit()\n",
        "print(c + d)"
      ],
      "metadata": {
        "colab": {
          "base_uri": "https://localhost:8080/"
        },
        "id": "eq-ivF-0oyym",
        "outputId": "65ccc259-0fa4-47f6-ce4b-606913ab33c0"
      },
      "execution_count": 1,
      "outputs": [
        {
          "output_type": "stream",
          "name": "stdout",
          "text": [
            "c: 5\n",
            "d: 8\n",
            "13\n"
          ]
        }
      ]
    },
    {
      "cell_type": "code",
      "source": [
        "i = int(input(\"i: \"))\n",
        "j = int(input(\"j: \"))\n",
        "\n",
        "k = (i / j)\n",
        "print(k) #will print the value of k with decimals\n",
        "print(f\"{k:.10f}\")\n",
        "\n",
        "k = int(i / j)\n",
        "print(k) #will print the value of k as an integer\n",
        "\n",
        "k = (i//j)\n",
        "print(k) #will also print k as an integer,"
      ],
      "metadata": {
        "colab": {
          "base_uri": "https://localhost:8080/"
        },
        "id": "zPA-bT4gq39x",
        "outputId": "c74e6976-a800-47d1-f3b7-e8260fdee7ac"
      },
      "execution_count": 18,
      "outputs": [
        {
          "output_type": "stream",
          "name": "stdout",
          "text": [
            "i: 5\n",
            "j: 9\n",
            "0.5555555555555556\n",
            "0.5555555556\n",
            "0\n",
            "0\n"
          ]
        }
      ]
    },
    {
      "cell_type": "code",
      "source": [
        "#different ways to add a variable to the print statement\n",
        "q = \"hello\"\n",
        "\n",
        "print(\"hi\",q)\n",
        "print(\"hi\" +q)\n",
        "print(\"hi \" +q)#will print the same but with the space\n",
        "print(f\"hi {q}\")\n",
        "print(f\"hi{q}\")"
      ],
      "metadata": {
        "colab": {
          "base_uri": "https://localhost:8080/"
        },
        "id": "lMon_9yiyofe",
        "outputId": "4e941050-927a-475b-9197-b62f371b63e4"
      },
      "execution_count": 15,
      "outputs": [
        {
          "output_type": "stream",
          "name": "stdout",
          "text": [
            "hi hello\n",
            "hihello\n",
            "hi hello\n",
            "hi hello\n",
            "hihello\n"
          ]
        }
      ]
    },
    {
      "cell_type": "code",
      "source": [
        "points =  int(input(\"How many points did you get: \"))\n",
        "\n",
        "if points < 2:\n",
        "  print(\"You lost fewer points than me.\")\n",
        "elif points > 2:\n",
        "  print(\"You lost more points than me.\")\n",
        "else:\n",
        "  print(\"You lost the same amount of points as me.\")"
      ],
      "metadata": {
        "colab": {
          "base_uri": "https://localhost:8080/"
        },
        "id": "ORe3yn970V3_",
        "outputId": "61b3df0e-44dd-443f-eb78-001e464d24f1"
      },
      "execution_count": 21,
      "outputs": [
        {
          "output_type": "stream",
          "name": "stdout",
          "text": [
            "How many points did you get: 1\n",
            "You lost fewer points than me.\n"
          ]
        }
      ]
    },
    {
      "cell_type": "code",
      "source": [
        "num = int(input(\"Number: \"))\n",
        "\n",
        "if (num % 2) == 0:\n",
        "  print(\"The number is even\")\n",
        "else:\n",
        "  print(\"The number is odd\")"
      ],
      "metadata": {
        "colab": {
          "base_uri": "https://localhost:8080/"
        },
        "id": "QcA1RUq-3Sk6",
        "outputId": "24f3bd1d-1f70-47a3-b88b-252c08cb77d9"
      },
      "execution_count": 25,
      "outputs": [
        {
          "output_type": "stream",
          "name": "stdout",
          "text": [
            "Number: 5\n",
            "The number is odd\n"
          ]
        }
      ]
    },
    {
      "cell_type": "code",
      "source": [
        "agree = input(\"Do you agree? \")\n",
        "\n",
        "if agree == 'Y' or agree == 'y':\n",
        "  print(\"Agreed.\")\n",
        "elif agree == 'N' or agree == 'n':\n",
        "  print(\"Not Agreed\")"
      ],
      "metadata": {
        "colab": {
          "base_uri": "https://localhost:8080/"
        },
        "id": "XXJZQ1L631Eg",
        "outputId": "4ea673ea-e940-4838-85c9-019a403dc29b"
      },
      "execution_count": 32,
      "outputs": [
        {
          "name": "stdout",
          "output_type": "stream",
          "text": [
            "Do you agree? t\n"
          ]
        }
      ]
    },
    {
      "cell_type": "code",
      "source": [
        "agree = input(\"Do you agree? \")\n",
        "\n"
      ],
      "metadata": {
        "id": "cP6cNiHx6RuY"
      },
      "execution_count": null,
      "outputs": []
    }
  ]
}