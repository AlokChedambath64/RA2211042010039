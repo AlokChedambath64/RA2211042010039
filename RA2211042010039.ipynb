{
  "nbformat": 4,
  "nbformat_minor": 0,
  "metadata": {
    "colab": {
      "provenance": [],
      "authorship_tag": "ABX9TyMwkxQSfhHhvXxNQXQD3w4B",
      "include_colab_link": true
    },
    "kernelspec": {
      "name": "python3",
      "display_name": "Python 3"
    },
    "language_info": {
      "name": "python"
    }
  },
  "cells": [
    {
      "cell_type": "markdown",
      "metadata": {
        "id": "view-in-github",
        "colab_type": "text"
      },
      "source": [
        "<a href=\"https://colab.research.google.com/github/AlokChedambath64/RA2211042010039/blob/main/RA2211042010039.ipynb\" target=\"_parent\"><img src=\"https://colab.research.google.com/assets/colab-badge.svg\" alt=\"Open In Colab\"/></a>"
      ]
    },
    {
      "cell_type": "code",
      "execution_count": 2,
      "metadata": {
        "id": "7cO_E-xNRSvb",
        "colab": {
          "base_uri": "https://localhost:8080/"
        },
        "outputId": "4f8f2212-9dc7-4212-fdb3-81f3c4c3a3d6"
      },
      "outputs": [
        {
          "output_type": "stream",
          "name": "stdout",
          "text": [
            "x: 5\n",
            "y: 4\n",
            "9\n",
            "a: 5\n",
            "b: 4\n",
            "54\n"
          ]
        }
      ],
      "source": [
        "x = int(input(\"x: \"))\n",
        "y = int(input(\"y: \"))\n",
        "\n",
        "print(x+y)#prints the sum of the values because x and y are converted into ints.\n",
        "\n",
        "a = input(\"a: \")\n",
        "b = input(\"b: \")\n",
        "\n",
        "print(a+b)#joins the values and prints it because it considers them as strings"
      ]
    },
    {
      "cell_type": "code",
      "source": [
        "#if the user gives a input that is not an integer, the program will fail. Hence we need to do this:\n",
        "\n",
        "try:\n",
        "  c =int(input(\"c: \"))\n",
        "except ValueError:\n",
        "  print(\"That is not an int!\")\n",
        "  exit()\n",
        "try:\n",
        "  d = int(input(\"d: \"))\n",
        "except ValueError: \n",
        "  print(\"That is not an int!\")\n",
        "  exit()\n",
        "print(c + d)"
      ],
      "metadata": {
        "colab": {
          "base_uri": "https://localhost:8080/"
        },
        "id": "eq-ivF-0oyym",
        "outputId": "65ccc259-0fa4-47f6-ce4b-606913ab33c0"
      },
      "execution_count": 1,
      "outputs": [
        {
          "output_type": "stream",
          "name": "stdout",
          "text": [
            "c: 5\n",
            "d: 8\n",
            "13\n"
          ]
        }
      ]
    },
    {
      "cell_type": "code",
      "source": [
        "i = int(input(\"i: \"))\n",
        "j = int(input(\"j: \"))\n",
        "\n",
        "k = (i / j)\n",
        "print(k) #will print the value of k with decimals\n",
        "print(f\"{k:.10f}\")\n",
        "\n",
        "k = int(i / j)\n",
        "print(k) #will print the value of k as an integer\n",
        "\n",
        "k = (i//j)\n",
        "print(k) #will also print k as an integer,"
      ],
      "metadata": {
        "colab": {
          "base_uri": "https://localhost:8080/"
        },
        "id": "zPA-bT4gq39x",
        "outputId": "c74e6976-a800-47d1-f3b7-e8260fdee7ac"
      },
      "execution_count": 18,
      "outputs": [
        {
          "output_type": "stream",
          "name": "stdout",
          "text": [
            "i: 5\n",
            "j: 9\n",
            "0.5555555555555556\n",
            "0.5555555556\n",
            "0\n",
            "0\n"
          ]
        }
      ]
    },
    {
      "cell_type": "code",
      "source": [
        "#different ways to add a variable to the print statement\n",
        "q = \"hello\"\n",
        "\n",
        "print(\"hi\",q)\n",
        "print(\"hi\" +q)\n",
        "print(\"hi \" +q)#will print the same but with the space\n",
        "print(f\"hi {q}\")\n",
        "print(f\"hi{q}\")"
      ],
      "metadata": {
        "colab": {
          "base_uri": "https://localhost:8080/"
        },
        "id": "lMon_9yiyofe",
        "outputId": "9cb0dbbb-634c-4c5e-834c-c69616df716a"
      },
      "execution_count": 11,
      "outputs": [
        {
          "output_type": "stream",
          "name": "stdout",
          "text": [
            "hi hello\n",
            "hihello\n",
            "hi hello\n",
            "hi hello\n",
            "hihello\n"
          ]
        }
      ]
    },
    {
      "cell_type": "code",
      "source": [
        "points =  int(input(\"How many points did you get: \"))\n",
        "\n",
        "if points < 2:\n",
        "  print(\"You lost fewer points than me.\")\n",
        "elif points > 2:\n",
        "  print(\"You lost more points than me.\")\n",
        "else:\n",
        "  print(\"You lost the same amount of points as me.\")"
      ],
      "metadata": {
        "colab": {
          "base_uri": "https://localhost:8080/"
        },
        "id": "ORe3yn970V3_",
        "outputId": "61b3df0e-44dd-443f-eb78-001e464d24f1"
      },
      "execution_count": 21,
      "outputs": [
        {
          "output_type": "stream",
          "name": "stdout",
          "text": [
            "How many points did you get: 1\n",
            "You lost fewer points than me.\n"
          ]
        }
      ]
    },
    {
      "cell_type": "code",
      "source": [
        "num = int(input(\"Number: \"))\n",
        "\n",
        "if (num % 2) == 0:\n",
        "  print(\"The number is even\")\n",
        "else:\n",
        "  print(\"The number is odd\")"
      ],
      "metadata": {
        "colab": {
          "base_uri": "https://localhost:8080/"
        },
        "id": "QcA1RUq-3Sk6",
        "outputId": "24f3bd1d-1f70-47a3-b88b-252c08cb77d9"
      },
      "execution_count": 25,
      "outputs": [
        {
          "output_type": "stream",
          "name": "stdout",
          "text": [
            "Number: 5\n",
            "The number is odd\n"
          ]
        }
      ]
    },
    {
      "cell_type": "code",
      "source": [
        "agree = input(\"Do you agree? \")\n",
        "\n",
        "if agree == 'Y' or agree == 'y':\n",
        "  print(\"Agreed.\")\n",
        "elif agree == 'N' or agree == 'n':\n",
        "  print(\"Not Agreed\")"
      ],
      "metadata": {
        "colab": {
          "base_uri": "https://localhost:8080/"
        },
        "id": "XXJZQ1L631Eg",
        "outputId": "4ea673ea-e940-4838-85c9-019a403dc29b"
      },
      "execution_count": 32,
      "outputs": [
        {
          "name": "stdout",
          "output_type": "stream",
          "text": [
            "Do you agree? t\n"
          ]
        }
      ]
    },
    {
      "cell_type": "code",
      "source": [
        "agree = input(\"Do you agree? \")\n",
        "\n",
        "if agree.lower() in [\"yes\", \"y\"]:\n",
        "  print(\"Agreed.\")\n",
        "elif agree.lower() in [\"no\", \"n\"]:\n",
        "  print(\"Not Agreed.\")\n"
      ],
      "metadata": {
        "colab": {
          "base_uri": "https://localhost:8080/"
        },
        "id": "cP6cNiHx6RuY",
        "outputId": "d448b87c-8576-4f69-c822-d9f60cdc39a7"
      },
      "execution_count": 37,
      "outputs": [
        {
          "output_type": "stream",
          "name": "stdout",
          "text": [
            "Do you agree? YeS\n",
            "Agreed.\n"
          ]
        }
      ]
    },
    {
      "cell_type": "code",
      "source": [
        "agree = input(\"Do you agree? \").lower()\n",
        "\n",
        "if agree in [\"yes\", \"y\"]:\n",
        "  print(\"Agreed.\")\n",
        "elif agree in [\"no\", \"n\"]:\n",
        "  print(\"Not Agreed.\")"
      ],
      "metadata": {
        "colab": {
          "base_uri": "https://localhost:8080/"
        },
        "id": "Lc4FRQVIbMdU",
        "outputId": "3e3a0439-8579-460c-aaa0-8df7dbf740b3"
      },
      "execution_count": 38,
      "outputs": [
        {
          "output_type": "stream",
          "name": "stdout",
          "text": [
            "Do you agree? Yes\n",
            "Agreed.\n"
          ]
        }
      ]
    },
    {
      "cell_type": "code",
      "source": [
        "for i in range(3):\n",
        "  print(\"hello\")"
      ],
      "metadata": {
        "colab": {
          "base_uri": "https://localhost:8080/"
        },
        "id": "TpdlOSACbeXU",
        "outputId": "90cb6fd3-adea-4b8d-d1b3-a75f78af86c0"
      },
      "execution_count": 39,
      "outputs": [
        {
          "output_type": "stream",
          "name": "stdout",
          "text": [
            "hello\n",
            "hello\n",
            "hello\n"
          ]
        }
      ]
    },
    {
      "cell_type": "code",
      "source": [
        "def hello():\n",
        "  print(\"hello\")\n",
        "\n",
        "for i in range(3):\n",
        "  hello()"
      ],
      "metadata": {
        "colab": {
          "base_uri": "https://localhost:8080/"
        },
        "id": "NuAvHzE9cRoW",
        "outputId": "0ca08490-0af0-4ae3-8bea-87950ffcb335"
      },
      "execution_count": 40,
      "outputs": [
        {
          "output_type": "stream",
          "name": "stdout",
          "text": [
            "hello\n",
            "hello\n",
            "hello\n"
          ]
        }
      ]
    },
    {
      "cell_type": "code",
      "source": [
        "def main():\n",
        "    hello(n)\n",
        "\n",
        "def hello(n):\n",
        "  for i in range(n):\n",
        "    print(\"hello\")\n",
        "#main function needs to be called. It needs to placed in the bottom too as the interpretor needs to look through evrything else.\n",
        "main()"
      ],
      "metadata": {
        "colab": {
          "base_uri": "https://localhost:8080/"
        },
        "id": "1619W22ucq0m",
        "outputId": "197a0ad2-6d47-489c-831b-f90e53891030"
      },
      "execution_count": 41,
      "outputs": [
        {
          "output_type": "stream",
          "name": "stdout",
          "text": [
            "hello\n",
            "hello\n",
            "hello\n"
          ]
        }
      ]
    },
    {
      "cell_type": "code",
      "source": [
        "for i in range(3):\n",
        "  print(\"#\")"
      ],
      "metadata": {
        "colab": {
          "base_uri": "https://localhost:8080/"
        },
        "id": "Pyc_dRx2eRV3",
        "outputId": "fa7fd99a-2911-4bb1-9e4e-e1bb83dd653a"
      },
      "execution_count": 42,
      "outputs": [
        {
          "output_type": "stream",
          "name": "stdout",
          "text": [
            "#\n",
            "#\n",
            "#\n"
          ]
        }
      ]
    },
    {
      "cell_type": "code",
      "source": [
        "n = int(input(\"N: \"))\n",
        "\n",
        "for i in range(n):\n",
        "  print(\"#\")"
      ],
      "metadata": {
        "colab": {
          "base_uri": "https://localhost:8080/"
        },
        "id": "Qo8Bjk7uf8Tc",
        "outputId": "e25ff63f-68ba-40cf-9d9b-6e69a5c54326"
      },
      "execution_count": 43,
      "outputs": [
        {
          "output_type": "stream",
          "name": "stdout",
          "text": [
            "N: 3\n",
            "#\n",
            "#\n",
            "#\n"
          ]
        }
      ]
    },
    {
      "cell_type": "code",
      "source": [
        "while True:\n",
        "  n = int(input(\"N: \"))\n",
        "  if n > 0:\n",
        "    break\n"
      ],
      "metadata": {
        "id": "nL8TWPDLgJC2"
      },
      "execution_count": 47,
      "outputs": []
    },
    {
      "cell_type": "code",
      "source": [
        "def main():\n",
        "  height = height1()\n",
        "  for i  in range(height):\n",
        "    print(\"#\")\n",
        "  \n",
        "def height1():\n",
        "  while True:\n",
        "    p = int(input(\"Height: \"))\n",
        "    if p > 0:\n",
        "        break\n",
        "  return p\n",
        "main()"
      ],
      "metadata": {
        "colab": {
          "base_uri": "https://localhost:8080/"
        },
        "id": "QAdcMTEqhsmG",
        "outputId": "cb9f2a65-841f-49e0-d174-af9afa9e9423"
      },
      "execution_count": 7,
      "outputs": [
        {
          "output_type": "stream",
          "name": "stdout",
          "text": [
            "Height: 5\n",
            "#\n",
            "#\n",
            "#\n",
            "#\n",
            "#\n"
          ]
        }
      ]
    },
    {
      "cell_type": "code",
      "source": [
        "def main():\n",
        "  height = height1()\n",
        "  for i  in range(height):\n",
        "    print(\"#\")\n",
        "  \n",
        "def height1():\n",
        "  while True:\n",
        "    try:\n",
        "      p = int(input(\"Height: \"))\n",
        "      if p > 0:\n",
        "          break\n",
        "    except ValueError:\n",
        "      print(\"That's not an integer.\")\n",
        "  return p\n",
        "main()"
      ],
      "metadata": {
        "colab": {
          "base_uri": "https://localhost:8080/"
        },
        "id": "f0eYqfcQi6D-",
        "outputId": "d0184fe4-977f-4e0f-9fd2-e5b9275b59db"
      },
      "execution_count": 8,
      "outputs": [
        {
          "output_type": "stream",
          "name": "stdout",
          "text": [
            "Height: cat\n",
            "That's not an integer.\n",
            "Height: 7\n",
            "#\n",
            "#\n",
            "#\n",
            "#\n",
            "#\n",
            "#\n",
            "#\n"
          ]
        }
      ]
    },
    {
      "cell_type": "code",
      "source": [
        "#to print in the same line.\n",
        "for i in range(4):\n",
        "  print(\"?\",end=\"\")"
      ],
      "metadata": {
        "colab": {
          "base_uri": "https://localhost:8080/"
        },
        "id": "ttE9Uy3epAy0",
        "outputId": "0d5f137d-ddf5-44c4-c5d6-3abbc4d95454"
      },
      "execution_count": 9,
      "outputs": [
        {
          "output_type": "stream",
          "name": "stdout",
          "text": [
            "????"
          ]
        }
      ]
    },
    {
      "cell_type": "code",
      "source": [
        "print(\"#\"*4)"
      ],
      "metadata": {
        "colab": {
          "base_uri": "https://localhost:8080/"
        },
        "id": "7_p9bWHEvqFL",
        "outputId": "4eac2dc2-58e8-434d-df70-ed563f547c15"
      },
      "execution_count": 10,
      "outputs": [
        {
          "output_type": "stream",
          "name": "stdout",
          "text": [
            "####\n"
          ]
        }
      ]
    },
    {
      "cell_type": "code",
      "source": [
        "for i in range(3):\n",
        "    print(\"#\"*4)\n"
      ],
      "metadata": {
        "colab": {
          "base_uri": "https://localhost:8080/"
        },
        "id": "3PHlcuaAvtQG",
        "outputId": "dc946e9a-55bd-4f29-d07e-5dd4b91bf202"
      },
      "execution_count": 15,
      "outputs": [
        {
          "output_type": "stream",
          "name": "stdout",
          "text": [
            "####\n",
            "####\n",
            "####\n"
          ]
        }
      ]
    },
    {
      "cell_type": "code",
      "source": [
        "scores =[72, 73, 33]\n",
        "\n",
        "average = sum(scores)/ len(scores)\n",
        "\n",
        "print(\"Avereage\", average)"
      ],
      "metadata": {
        "colab": {
          "base_uri": "https://localhost:8080/"
        },
        "id": "2wNra9qZxqqa",
        "outputId": "f9aea9eb-7bdf-4fb7-ad6a-34bc617c139c"
      },
      "execution_count": 17,
      "outputs": [
        {
          "output_type": "stream",
          "name": "stdout",
          "text": [
            "Avereage 59.333333333333336\n"
          ]
        }
      ]
    },
    {
      "cell_type": "code",
      "source": [
        "# you can make lists which are empty unlike arrays\n",
        "scores = []\n",
        "\n",
        "for i  in range(3):\n",
        "  score = int(input(\"Score: \"))\n",
        "  scores.append(score)\n",
        "\n",
        "average = sum(scores) / len(scores)\n",
        "print(\"Average\", average)"
      ],
      "metadata": {
        "colab": {
          "base_uri": "https://localhost:8080/"
        },
        "id": "Ul_xChLIx6Rv",
        "outputId": "fed5a7ad-49e2-4f64-d44f-5042a3eb1b46"
      },
      "execution_count": 20,
      "outputs": [
        {
          "output_type": "stream",
          "name": "stdout",
          "text": [
            "Score: 6\n",
            "Score: 7\n",
            "Score: 8\n",
            "Average 7.0\n"
          ]
        }
      ]
    },
    {
      "cell_type": "code",
      "source": [
        "# you can make lists which are empty unlike arrays\n",
        "scores = []\n",
        "\n",
        "for i  in range(3):\n",
        "  score = int(input(\"Score: \"))\n",
        "  scores.append(score)\n",
        "\n",
        "average = sum(scores) / len(scores)\n",
        "print(\"Average\", average)"
      ],
      "metadata": {
        "id": "51hxBifZyqxU"
      },
      "execution_count": null,
      "outputs": []
    },
    {
      "cell_type": "code",
      "source": [
        "before = input(\"Before: \")\n",
        "print(\"After: \", end = \"\")\n",
        "for c in before:\n",
        "  print (c.upper(), end=\"\")\n",
        "print()"
      ],
      "metadata": {
        "colab": {
          "base_uri": "https://localhost:8080/"
        },
        "id": "BK8IQNOTy6TL",
        "outputId": "86001299-80a1-4be9-9869-1aa1df4d8f8f"
      },
      "execution_count": 21,
      "outputs": [
        {
          "output_type": "stream",
          "name": "stdout",
          "text": [
            "Before: hello\n",
            "After: HELLO\n"
          ]
        }
      ]
    },
    {
      "cell_type": "code",
      "source": [
        "before = input(\"Before: \")\n",
        "print(\"After: \", end = \"\")\n",
        "after = before.upper()\n",
        "print(after)\n",
        "print()"
      ],
      "metadata": {
        "colab": {
          "base_uri": "https://localhost:8080/"
        },
        "id": "6RdLfTtmz89j",
        "outputId": "feebd9df-e32b-4884-9989-83e3a116f901"
      },
      "execution_count": 22,
      "outputs": [
        {
          "output_type": "stream",
          "name": "stdout",
          "text": [
            "Before: hello\n",
            "After: HELLO\n",
            "\n"
          ]
        }
      ]
    },
    {
      "cell_type": "code",
      "source": [
        "people = dict()"
      ],
      "metadata": {
        "id": "pdqI62yH6cp9"
      },
      "execution_count": null,
      "outputs": []
    },
    {
      "cell_type": "code",
      "source": [
        "people = {\n",
        "    \"alok\" : \"+32524657\"\n",
        "}\n",
        "name = input(\"Name: \")\n",
        "if name in people:\n",
        "  print(\"Number:\",{people[name]})"
      ],
      "metadata": {
        "colab": {
          "base_uri": "https://localhost:8080/"
        },
        "id": "RaJCESML6ii3",
        "outputId": "06ffa727-ac1b-4492-83d1-140f3ae931f7"
      },
      "execution_count": 23,
      "outputs": [
        {
          "output_type": "stream",
          "name": "stdout",
          "text": [
            "Name: alok\n",
            "Number: {'+32524657'}\n"
          ]
        }
      ]
    },
    {
      "cell_type": "code",
      "source": [
        "import csv \n",
        "\n",
        "file = open(\"phonebook.csv\", \"a\")\n",
        "\n",
        "name = input(\"Name: \")\n",
        "number = input(\"Number: \")\n",
        "\n",
        "#variable called write\n",
        "writer = csv.writer(file)\n",
        "writer.writerow([name, number])\n",
        "\n",
        "file.close()"
      ],
      "metadata": {
        "colab": {
          "base_uri": "https://localhost:8080/"
        },
        "id": "3I3jn9Qp8xjK",
        "outputId": "bc872935-b064-4884-fc46-5f849880b18f"
      },
      "execution_count": 25,
      "outputs": [
        {
          "name": "stdout",
          "output_type": "stream",
          "text": [
            "Name: neell\n",
            "Number: 5874524097\n"
          ]
        }
      ]
    },
    {
      "cell_type": "code",
      "source": [
        "import csv\n",
        "\n",
        "name = input(\"Name: \")\n",
        "number = input(\"Number: \")\n",
        "\n",
        "with open(\"phonebook.csv\", \"a\") as file:f\n",
        "  writer = csv.writer(file)\n",
        "  writer.writerow([name, number])"
      ],
      "metadata": {
        "id": "ffE_aFzQ-9ms"
      },
      "execution_count": null,
      "outputs": []
    }
  ]
}